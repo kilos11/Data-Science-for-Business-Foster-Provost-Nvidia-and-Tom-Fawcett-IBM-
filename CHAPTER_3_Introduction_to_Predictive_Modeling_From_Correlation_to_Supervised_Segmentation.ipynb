{
  "nbformat": 4,
  "nbformat_minor": 0,
  "metadata": {
    "colab": {
      "provenance": [],
      "authorship_tag": "ABX9TyNJBG8tBAA58uo2XLTPmtfQ",
      "include_colab_link": true
    },
    "kernelspec": {
      "name": "python3",
      "display_name": "Python 3"
    },
    "language_info": {
      "name": "python"
    }
  },
  "cells": [
    {
      "cell_type": "markdown",
      "metadata": {
        "id": "view-in-github",
        "colab_type": "text"
      },
      "source": [
        "<a href=\"https://colab.research.google.com/github/kilos11/Data-Science-for-Business-Foster-Provost-Nvidia-and-Tom-Fawcett-IBM-/blob/main/CHAPTER_3_Introduction_to_Predictive_Modeling_From_Correlation_to_Supervised_Segmentation.ipynb\" target=\"_parent\"><img src=\"https://colab.research.google.com/assets/colab-badge.svg\" alt=\"Open In Colab\"/></a>"
      ]
    },
    {
      "cell_type": "markdown",
      "source": [
        "#**Models, Induction, and Prediction**#\n",
        "\n",
        "Generally speaking, a model is a simplified representation of reality created to serve a purpose. It is simplified based on some assumptions about what is and is not important for the specific purpose, or sometimes based on constraints on information or tracta‐ bility. For example, a map is a model of the physical world. It abstracts away a tremen‐ dous amount of information that the mapmaker deemed irrelevant for its purpose. It preserves, and sometimes further simplifies, the relevant information. For example, a road map keeps and highlights the roads, their basic topology, their relationships to places one would want to travel, and other relevant information. Various professions have well-known model types: an architectural blueprint, an engineering prototype, the"
      ],
      "metadata": {
        "id": "FQdLeoxad69K"
      }
    },
    {
      "cell_type": "markdown",
      "source": [
        "#**Supervised Segmentation**#\n",
        "\n",
        " Recall that a predictive model focuses on estimating the value of some particular target variable of interest. An intuitive way of thinking about extracting patterns from data in a supervised manner is to try to segment the population into subgroups that have dif‐ ferent values for the target variable (and within the subgroup the instances have similar values for the target variable). If the segmentation is done using values of variables that will be known when the target is not, then these segments can be used to predict the value of the target variable. Moreover, the segmentation may at the same time provide a human-understandable set of segmentation patterns."
      ],
      "metadata": {
        "id": "JzgraMzPkik5"
      }
    }
  ]
}